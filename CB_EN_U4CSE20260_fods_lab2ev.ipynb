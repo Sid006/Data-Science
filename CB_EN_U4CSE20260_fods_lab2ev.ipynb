{
  "cells": [
    {
      "cell_type": "markdown",
      "metadata": {
        "id": "5QKwaGWoT3kV"
      },
      "source": [
        "# 19CSE304 Lab Evaluation 2\n",
        "## By Siddhartha Bhaskaran (CB.EN.U4CSE20260)"
      ]
    },
    {
      "cell_type": "markdown",
      "metadata": {
        "id": "2hhftvgZT3ki"
      },
      "source": [
        "# 1"
      ]
    },
    {
      "cell_type": "code",
      "execution_count": 2,
      "metadata": {
        "id": "VrH5Ou_0T3kj"
      },
      "outputs": [],
      "source": [
        "import pandas as pd\n",
        "import numpy as np\n",
        "from scipy import stats\n",
        "import seaborn as sns\n",
        "import matplotlib.pyplot as plt"
      ]
    },
    {
      "cell_type": "code",
      "execution_count": 3,
      "metadata": {
        "id": "urJbcyFhT3km"
      },
      "outputs": [],
      "source": [
        "flowers = [\"PURPLE\",\"PURPLE\",\"PURPLE\",\"WHITE\"]"
      ]
    },
    {
      "cell_type": "code",
      "execution_count": 4,
      "metadata": {
        "id": "NrAy8kQUT3kn"
      },
      "outputs": [],
      "source": [
        "NUM_PURPLE = 705 + 60\n",
        "NUM_TOTAL = 929\n",
        "NUM_WHITE = NUM_TOTAL - NUM_PURPLE\n",
        "NUM_ITERS = 2000 - 260"
      ]
    },
    {
      "cell_type": "code",
      "execution_count": 5,
      "metadata": {
        "id": "ftfUffs5T3ko"
      },
      "outputs": [],
      "source": [
        "df = pd.DataFrame({\"Color\":[\"White\",\"Purple\"],\"Hypothesis\":[0.25,0.75],\"Sample\":[NUM_WHITE/NUM_TOTAL, NUM_PURPLE/NUM_TOTAL]})"
      ]
    },
    {
      "cell_type": "code",
      "execution_count": 6,
      "metadata": {
        "colab": {
          "base_uri": "https://localhost:8080/",
          "height": 112
        },
        "id": "Z2hawV2MT3kp",
        "outputId": "4cd58738-3bc5-4a00-9049-364fa28816e6"
      },
      "outputs": [
        {
          "output_type": "execute_result",
          "data": {
            "text/plain": [
              "    Color  Hypothesis    Sample\n",
              "0   White        0.25  0.176534\n",
              "1  Purple        0.75  0.823466"
            ],
            "text/html": [
              "\n",
              "  <div id=\"df-c0e83e16-b3fb-4c30-8ec4-3fe6c9e38e3c\">\n",
              "    <div class=\"colab-df-container\">\n",
              "      <div>\n",
              "<style scoped>\n",
              "    .dataframe tbody tr th:only-of-type {\n",
              "        vertical-align: middle;\n",
              "    }\n",
              "\n",
              "    .dataframe tbody tr th {\n",
              "        vertical-align: top;\n",
              "    }\n",
              "\n",
              "    .dataframe thead th {\n",
              "        text-align: right;\n",
              "    }\n",
              "</style>\n",
              "<table border=\"1\" class=\"dataframe\">\n",
              "  <thead>\n",
              "    <tr style=\"text-align: right;\">\n",
              "      <th></th>\n",
              "      <th>Color</th>\n",
              "      <th>Hypothesis</th>\n",
              "      <th>Sample</th>\n",
              "    </tr>\n",
              "  </thead>\n",
              "  <tbody>\n",
              "    <tr>\n",
              "      <th>0</th>\n",
              "      <td>White</td>\n",
              "      <td>0.25</td>\n",
              "      <td>0.176534</td>\n",
              "    </tr>\n",
              "    <tr>\n",
              "      <th>1</th>\n",
              "      <td>Purple</td>\n",
              "      <td>0.75</td>\n",
              "      <td>0.823466</td>\n",
              "    </tr>\n",
              "  </tbody>\n",
              "</table>\n",
              "</div>\n",
              "      <button class=\"colab-df-convert\" onclick=\"convertToInteractive('df-c0e83e16-b3fb-4c30-8ec4-3fe6c9e38e3c')\"\n",
              "              title=\"Convert this dataframe to an interactive table.\"\n",
              "              style=\"display:none;\">\n",
              "        \n",
              "  <svg xmlns=\"http://www.w3.org/2000/svg\" height=\"24px\"viewBox=\"0 0 24 24\"\n",
              "       width=\"24px\">\n",
              "    <path d=\"M0 0h24v24H0V0z\" fill=\"none\"/>\n",
              "    <path d=\"M18.56 5.44l.94 2.06.94-2.06 2.06-.94-2.06-.94-.94-2.06-.94 2.06-2.06.94zm-11 1L8.5 8.5l.94-2.06 2.06-.94-2.06-.94L8.5 2.5l-.94 2.06-2.06.94zm10 10l.94 2.06.94-2.06 2.06-.94-2.06-.94-.94-2.06-.94 2.06-2.06.94z\"/><path d=\"M17.41 7.96l-1.37-1.37c-.4-.4-.92-.59-1.43-.59-.52 0-1.04.2-1.43.59L10.3 9.45l-7.72 7.72c-.78.78-.78 2.05 0 2.83L4 21.41c.39.39.9.59 1.41.59.51 0 1.02-.2 1.41-.59l7.78-7.78 2.81-2.81c.8-.78.8-2.07 0-2.86zM5.41 20L4 18.59l7.72-7.72 1.47 1.35L5.41 20z\"/>\n",
              "  </svg>\n",
              "      </button>\n",
              "      \n",
              "  <style>\n",
              "    .colab-df-container {\n",
              "      display:flex;\n",
              "      flex-wrap:wrap;\n",
              "      gap: 12px;\n",
              "    }\n",
              "\n",
              "    .colab-df-convert {\n",
              "      background-color: #E8F0FE;\n",
              "      border: none;\n",
              "      border-radius: 50%;\n",
              "      cursor: pointer;\n",
              "      display: none;\n",
              "      fill: #1967D2;\n",
              "      height: 32px;\n",
              "      padding: 0 0 0 0;\n",
              "      width: 32px;\n",
              "    }\n",
              "\n",
              "    .colab-df-convert:hover {\n",
              "      background-color: #E2EBFA;\n",
              "      box-shadow: 0px 1px 2px rgba(60, 64, 67, 0.3), 0px 1px 3px 1px rgba(60, 64, 67, 0.15);\n",
              "      fill: #174EA6;\n",
              "    }\n",
              "\n",
              "    [theme=dark] .colab-df-convert {\n",
              "      background-color: #3B4455;\n",
              "      fill: #D2E3FC;\n",
              "    }\n",
              "\n",
              "    [theme=dark] .colab-df-convert:hover {\n",
              "      background-color: #434B5C;\n",
              "      box-shadow: 0px 1px 3px 1px rgba(0, 0, 0, 0.15);\n",
              "      filter: drop-shadow(0px 1px 2px rgba(0, 0, 0, 0.3));\n",
              "      fill: #FFFFFF;\n",
              "    }\n",
              "  </style>\n",
              "\n",
              "      <script>\n",
              "        const buttonEl =\n",
              "          document.querySelector('#df-c0e83e16-b3fb-4c30-8ec4-3fe6c9e38e3c button.colab-df-convert');\n",
              "        buttonEl.style.display =\n",
              "          google.colab.kernel.accessAllowed ? 'block' : 'none';\n",
              "\n",
              "        async function convertToInteractive(key) {\n",
              "          const element = document.querySelector('#df-c0e83e16-b3fb-4c30-8ec4-3fe6c9e38e3c');\n",
              "          const dataTable =\n",
              "            await google.colab.kernel.invokeFunction('convertToInteractive',\n",
              "                                                     [key], {});\n",
              "          if (!dataTable) return;\n",
              "\n",
              "          const docLinkHtml = 'Like what you see? Visit the ' +\n",
              "            '<a target=\"_blank\" href=https://colab.research.google.com/notebooks/data_table.ipynb>data table notebook</a>'\n",
              "            + ' to learn more about interactive tables.';\n",
              "          element.innerHTML = '';\n",
              "          dataTable['output_type'] = 'display_data';\n",
              "          await google.colab.output.renderOutput(dataTable, element);\n",
              "          const docLink = document.createElement('div');\n",
              "          docLink.innerHTML = docLinkHtml;\n",
              "          element.appendChild(docLink);\n",
              "        }\n",
              "      </script>\n",
              "    </div>\n",
              "  </div>\n",
              "  "
            ]
          },
          "metadata": {},
          "execution_count": 6
        }
      ],
      "source": [
        "df"
      ]
    },
    {
      "cell_type": "markdown",
      "source": [],
      "metadata": {
        "id": "BR7mzH32UwmO"
      }
    },
    {
      "cell_type": "markdown",
      "metadata": {
        "id": "jlfHiOpvT3ku"
      },
      "source": [
        "# Test Statistic"
      ]
    },
    {
      "cell_type": "code",
      "execution_count": 7,
      "metadata": {
        "id": "xpTdCyyLT3kv"
      },
      "outputs": [],
      "source": [
        "def tvd(dist1, dist2):\n",
        "    return abs(np.subtract(dist1, dist2)).sum() / 2"
      ]
    },
    {
      "cell_type": "code",
      "execution_count": 8,
      "metadata": {
        "colab": {
          "base_uri": "https://localhost:8080/"
        },
        "id": "eCyIlcu3T3kx",
        "outputId": "744d69fa-2537-43ba-f15f-ae0f9d57ddda"
      },
      "outputs": [
        {
          "output_type": "stream",
          "name": "stdout",
          "text": [
            "0.07346609257265878\n"
          ]
        }
      ],
      "source": [
        "given_tvd = tvd(df[\"Hypothesis\"],df[\"Sample\"])\n",
        "print(given_tvd)"
      ]
    },
    {
      "cell_type": "markdown",
      "metadata": {
        "id": "Y3U_jieWT3ky"
      },
      "source": [
        "# Sampling Function"
      ]
    },
    {
      "cell_type": "code",
      "execution_count": 9,
      "metadata": {
        "id": "ROW307oJT3kz"
      },
      "outputs": [],
      "source": [
        "def sample_proportions(sample_size, probabilities):\n",
        "    return np.random.multinomial(sample_size, probabilities)/ sample_size"
      ]
    },
    {
      "cell_type": "markdown",
      "metadata": {
        "id": "TcTDDmx8T3k0"
      },
      "source": [
        "# Answers"
      ]
    },
    {
      "cell_type": "markdown",
      "metadata": {
        "id": "fsxO9nCWT3k0"
      },
      "source": [
        "1. Null and Alternate hypothesis\n",
        "\n",
        "$H_0$: The frequencies of the flowers in the sample is inline with the hypothesized frequencies.\n",
        "\n",
        "$freq = [0.25, 0.75]$\n",
        "\n",
        "$H_1$: The hypothesized frequencies do not correspond the sample frequencies\n",
        "\n",
        "$freq \\ne [0.25, 0.75]$"
      ]
    },
    {
      "cell_type": "markdown",
      "metadata": {
        "id": "T3xln7evT3k1"
      },
      "source": [
        "2. The test statistic used here is z score of TVD.\n",
        "\n",
        "TVD is defined as $\\frac{\\Sigma |dist_1 - dist_2|}{2}$\n",
        "\n",
        "Since 1740 is not smaller than 30 the z score can be used."
      ]
    },
    {
      "cell_type": "markdown",
      "metadata": {
        "id": "438-tf7-T3k2"
      },
      "source": [
        "3. The observed TVD is $0.0228$. The empirical p value of $0.0228$ is $0.10$"
      ]
    },
    {
      "cell_type": "code",
      "execution_count": 11,
      "metadata": {
        "colab": {
          "base_uri": "https://localhost:8080/"
        },
        "id": "AbgsJuMwT3k3",
        "outputId": "5daf29ed-faf7-4f89-c23d-4e6568e4d205"
      },
      "outputs": [
        {
          "output_type": "execute_result",
          "data": {
            "text/plain": [
              "-1.2815515655446004"
            ]
          },
          "metadata": {},
          "execution_count": 11
        }
      ],
      "source": [
        "stats.norm.ppf(0.10)"
      ]
    },
    {
      "cell_type": "markdown",
      "metadata": {
        "id": "8p2oZ46yT3k4"
      },
      "source": [
        "\n",
        "\n",
        "```\n",
        "# This is formatted as code\n",
        "```\n",
        "\n",
        "This is the empirical z score. This suggests that the obtained sample lies $1.2 \\sigma$ from the mean"
      ]
    },
    {
      "cell_type": "markdown",
      "metadata": {
        "id": "OUqsdjDxT3k4"
      },
      "source": [
        "*4*. Simulation"
      ]
    },
    {
      "cell_type": "code",
      "execution_count": 12,
      "metadata": {
        "id": "L5IUcZzgT3k5"
      },
      "outputs": [],
      "source": [
        "sampling_tvd = []\n",
        "for _ in range(NUM_ITERS):\n",
        "    tmp = sample_proportions(NUM_TOTAL, df[\"Hypothesis\"])\n",
        "    sampling_tvd.append(tvd(tmp, df[\"Hypothesis\"]))"
      ]
    },
    {
      "cell_type": "markdown",
      "metadata": {
        "id": "iB6w4-_9T3k6"
      },
      "source": [
        "5. Visualization of the simulation"
      ]
    },
    {
      "cell_type": "code",
      "execution_count": 13,
      "metadata": {
        "colab": {
          "base_uri": "https://localhost:8080/",
          "height": 265
        },
        "id": "YqbLdVLwT3k6",
        "outputId": "89f03e3c-b700-4869-b6de-221e93795064"
      },
      "outputs": [
        {
          "output_type": "display_data",
          "data": {
            "text/plain": [
              "<Figure size 432x288 with 1 Axes>"
            ],
            "image/png": "[encoded data removed]"
          },
          "metadata": {
            "needs_background": "light"
          }
        }
      ],
      "source": [
        "fig, ax = plt.subplots()\n",
        "sns.histplot(ax=ax, x=sampling_tvd)\n",
        "plt.scatter(given_tvd, 1, marker=\"o\", s=100, color=\"r\")\n",
        "plt.show()"
      ]
    },
    {
      "cell_type": "markdown",
      "metadata": {
        "id": "NiLHPHfgT3k7"
      },
      "source": [
        "6. Outcome\n",
        "\n",
        "    The empirical probability of obtaining a sample with atleast the TVD of the given sample is $0.10$, which is $10\\%$. Since $10\\%$ is greater than both of the most commonly used $\\alpha$ values $[5\\%,1\\%]$, the __Null hypothesis should be rejected__. Mendel hypothesis that purple and white flowers of pea plant grow in the ratio of $3:1$ cannot be rejected."
      ]
    },
    {
      "cell_type": "markdown",
      "metadata": {
        "id": "6xJJLVTdT3k8"
      },
      "source": [
        "# 2"
      ]
    },
    {
      "cell_type": "code",
      "execution_count": null,
      "metadata": {
        "id": "tXSI18HUT3k9"
      },
      "outputs": [],
      "source": [
        "sigma = 13.46\n",
        "mu = 60\n",
        "n = 30\n",
        "x_bar = 65.10\n",
        "alpha = 0.05"
      ]
    },
    {
      "cell_type": "markdown",
      "metadata": {
        "id": "ne652ptVT3k9"
      },
      "source": [
        "## p-value method"
      ]
    },
    {
      "cell_type": "code",
      "execution_count": 14,
      "metadata": {
        "colab": {
          "base_uri": "https://localhost:8080/"
        },
        "id": "8ha6JTZyT3k-",
        "outputId": "19f58f7b-735c-47a6-c421-83454a7595c2"
      },
      "outputs": [
        {
          "output_type": "stream",
          "name": "stdout",
          "text": [
            "Calculated Statistic :  2.075323211943792\n"
          ]
        }
      ],
      "source": [
        "import numpy as  np\n",
        "import scipy.stats as st\n",
        "std = 13.46\n",
        "mu = 60\n",
        "n = 30\n",
        "x_bar = 65.10\n",
        "alpha = 0.05\n",
        "\n",
        "#H0 : mu = 60\n",
        "#H1 : mu != 60\n",
        "\n",
        "\n",
        "#critical value method \n",
        "z = (x_bar-mu)/(std/np.sqrt(n))\n",
        "print(\"Calculated Statistic : \",z)\n"
      ]
    },
    {
      "cell_type": "code",
      "execution_count": 15,
      "metadata": {
        "colab": {
          "base_uri": "https://localhost:8080/"
        },
        "id": "n2C4PIFDT3k-",
        "outputId": "e4c4b778-1370-4e8d-d81b-2d6959bf364f"
      },
      "outputs": [
        {
          "output_type": "stream",
          "name": "stdout",
          "text": [
            "Critical Value :  1.9599639845400545\n",
            "Reject NULL Hypothesis\n"
          ]
        }
      ],
      "source": [
        "z_critical = np.abs(st.norm.ppf(alpha/2) )\n",
        "print(\"Critical Value : \",z_critical)\n",
        "\n",
        "if z<z_critical:\n",
        "    print(\"Failed to Reject NULL Hypothesis\")\n",
        "else: \n",
        "    print(\"Reject NULL Hypothesis\")"
      ]
    },
    {
      "cell_type": "markdown",
      "metadata": {
        "id": "LgsUn0aQT3k_"
      },
      "source": [
        "The probability of getting a value equal to or greater than 65.10 is 1.9%, which is less the the significance level of 5%.\n",
        "\n",
        "Hence the __Null hypothesis can be rejected__.\n",
        "\n",
        "Mean can be different from $60$"
      ]
    }
  ],
  "metadata": {
    "kernelspec": {
      "display_name": "Python 3",
      "language": "python",
      "name": "python3"
    },
    "language_info": {
      "codemirror_mode": {
        "name": "ipython",
        "version": 3
      },
      "file_extension": ".py",
      "mimetype": "text/x-python",
      "name": "python",
      "nbconvert_exporter": "python",
      "pygments_lexer": "ipython3",
      "version": "3.10.8"
    },
    "orig_nbformat": 4,
    "vscode": {
      "interpreter": {
        "hash": "b0fa6594d8f4cbf19f97940f81e996739fb7646882a419484c72d19e05852a7e"
      }
    },
    "colab": {
      "provenance": []
    }
  },
  "nbformat": 4,
  "nbformat_minor": 0
}