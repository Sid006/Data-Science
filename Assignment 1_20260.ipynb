{
  "nbformat": 4,
  "nbformat_minor": 0,
  "metadata": {
    "colab": {
      "provenance": [],
      "collapsed_sections": []
    },
    "kernelspec": {
      "name": "python3",
      "display_name": "Python 3"
    },
    "language_info": {
      "name": "python"
    }
  },
  "cells": [
    {
      "cell_type": "code",
      "execution_count": null,
      "metadata": {
        "colab": {
          "base_uri": "https://localhost:8080/"
        },
        "id": "JQyjdxvCJDiL",
        "outputId": "5c446531-1d16-4111-daa9-374c42661556"
      },
      "outputs": [
        {
          "output_type": "stream",
          "name": "stdout",
          "text": [
            "Mounted at /content/drive\n"
          ]
        }
      ],
      "source": [
        "from google.colab import drive\n",
        "drive.mount('/content/drive')"
      ]
    },
    {
      "cell_type": "markdown",
      "source": [
        "1.\n"
      ],
      "metadata": {
        "id": "FOElRp1Vm2OE"
      }
    },
    {
      "cell_type": "code",
      "source": [
        "set1 = {\"aman\", \"222\", 777, 400.4}\n",
        "tup = tuple(set1)\n",
        "print(tup)"
      ],
      "metadata": {
        "id": "NqFmmrwyPhte",
        "colab": {
          "base_uri": "https://localhost:8080/"
        },
        "outputId": "4cdb8f6b-c7a9-401c-dd3d-ada3b36ce336"
      },
      "execution_count": null,
      "outputs": [
        {
          "output_type": "stream",
          "name": "stdout",
          "text": [
            "(400.4, 777, 'aman', '222')\n"
          ]
        }
      ]
    },
    {
      "cell_type": "markdown",
      "source": [
        "2."
      ],
      "metadata": {
        "id": "MxTza9W_ZPIm"
      }
    },
    {
      "cell_type": "code",
      "source": [
        "dict1 = {\"Roll Number\": \"CB.EN.U4CSE20260\",\"Last Name\": \"Bhaskaran\",\"First Name\": \"Siddhartha \",\"DOB\": \"06-11-2002\"}\n",
        "print(dict1.keys())\n",
        "print(dict1.values())\n",
        "print(dict1)\n"
      ],
      "metadata": {
        "colab": {
          "base_uri": "https://localhost:8080/"
        },
        "id": "0bsVJO3R_8j_",
        "outputId": "c5b5cfb0-3613-4de1-ea82-8940e08bcbe0"
      },
      "execution_count": 2,
      "outputs": [
        {
          "output_type": "stream",
          "name": "stdout",
          "text": [
            "dict_keys(['Roll Number', 'Last Name', 'First Name', 'DOB'])\n",
            "dict_values(['CB.EN.U4CSE20260', 'Bhaskaran', 'Siddhartha ', '06-11-2002'])\n",
            "{'Roll Number': 'CB.EN.U4CSE20260', 'Last Name': 'Bhaskaran', 'First Name': 'Siddhartha ', 'DOB': '06-11-2002'}\n"
          ]
        }
      ]
    },
    {
      "cell_type": "markdown",
      "source": [
        "3."
      ],
      "metadata": {
        "id": "LhnxRzarZXoA"
      }
    },
    {
      "cell_type": "code",
      "source": [
        "import numpy as np\n",
        "from numpy import random\n",
        "arr = random.randint(0,1,size = (2,2))\n",
        "print(arr)"
      ],
      "metadata": {
        "colab": {
          "base_uri": "https://localhost:8080/"
        },
        "id": "g4TwC4HYBOTW",
        "outputId": "61fc70cd-b8ee-45f9-e0c1-5d607c6a7627"
      },
      "execution_count": 3,
      "outputs": [
        {
          "output_type": "stream",
          "name": "stdout",
          "text": [
            "[[0 0]\n",
            " [0 0]]\n"
          ]
        }
      ]
    },
    {
      "cell_type": "markdown",
      "source": [
        "4."
      ],
      "metadata": {
        "id": "4rFEu0djZeUV"
      }
    },
    {
      "cell_type": "code",
      "source": [
        "abs(-1234)"
      ],
      "metadata": {
        "colab": {
          "base_uri": "https://localhost:8080/"
        },
        "id": "9ImtAOdCCPVW",
        "outputId": "defab83a-2637-4e57-df90-45f7f38f4ad9"
      },
      "execution_count": null,
      "outputs": [
        {
          "output_type": "execute_result",
          "data": {
            "text/plain": [
              "1234"
            ]
          },
          "metadata": {},
          "execution_count": 4
        }
      ]
    },
    {
      "cell_type": "code",
      "source": [
        "import random\n",
        "print(random.random())"
      ],
      "metadata": {
        "colab": {
          "base_uri": "https://localhost:8080/"
        },
        "id": "OqlSZ1nuG4Jf",
        "outputId": "7ac18dc6-bcaf-4302-d270-f916c4061ec2"
      },
      "execution_count": 5,
      "outputs": [
        {
          "output_type": "stream",
          "name": "stdout",
          "text": [
            "0.1890081602530823\n"
          ]
        }
      ]
    },
    {
      "cell_type": "markdown",
      "source": [
        "5."
      ],
      "metadata": {
        "id": "R1G0VxuHZ0XA"
      }
    },
    {
      "cell_type": "code",
      "source": [
        "\n",
        "print(random.randint(20,90))"
      ],
      "metadata": {
        "colab": {
          "base_uri": "https://localhost:8080/"
        },
        "id": "qIJk_bPfH3Zv",
        "outputId": "887bbea5-04b6-46bf-9085-e466982f2755"
      },
      "execution_count": null,
      "outputs": [
        {
          "output_type": "stream",
          "name": "stdout",
          "text": [
            "49\n"
          ]
        }
      ]
    },
    {
      "cell_type": "markdown",
      "source": [
        "6."
      ],
      "metadata": {
        "id": "iwNnQUqTZw5A"
      }
    },
    {
      "cell_type": "code",
      "source": [
        "set1 = set([11,12,13,14,15])\n",
        "set2 = random.choices(list(set1), k=3)\n",
        "print(set2)"
      ],
      "metadata": {
        "id": "crDPzkGPIP8U",
        "colab": {
          "base_uri": "https://localhost:8080/"
        },
        "outputId": "a7d4846d-1ef1-44b5-da86-7b705fbb1dc6"
      },
      "execution_count": null,
      "outputs": [
        {
          "output_type": "stream",
          "name": "stdout",
          "text": [
            "[11, 14, 15]\n"
          ]
        }
      ]
    },
    {
      "cell_type": "markdown",
      "source": [
        "7."
      ],
      "metadata": {
        "id": "zidcHPnqn5Go"
      }
    },
    {
      "cell_type": "code",
      "source": [
        "import random\n",
        "Set1 = set([11, 12, 13, 14, 15])\n",
        "List = random.choices(list(Set1), k = 3)\n",
        "print(List)\n",
        "set2 = random.choice(list(Set1))\n",
        "print(set2)"
      ],
      "metadata": {
        "colab": {
          "base_uri": "https://localhost:8080/"
        },
        "id": "00z22v69PEjY",
        "outputId": "8ea0c06b-d0a4-4667-d71d-a55a17a7b617"
      },
      "execution_count": 6,
      "outputs": [
        {
          "output_type": "stream",
          "name": "stdout",
          "text": [
            "[13, 12, 13]\n",
            "13\n"
          ]
        }
      ]
    },
    {
      "cell_type": "markdown",
      "source": [
        "8."
      ],
      "metadata": {
        "id": "fhWBY5hHZsLk"
      }
    },
    {
      "cell_type": "code",
      "source": [
        "import os\n",
        "os.getcwd()\n",
        "os.chdir(r\"/content/sample_data\")\n",
        "os.mkdir('document1')\n",
        "os.chdir('document1')\n",
        "f = open('document_1.txt','w+')\n",
        "f.write('The King is Dead, Long Live The King')\n",
        "f.seek(0)\n",
        "print(f.read())\n",
        "f.close()"
      ],
      "metadata": {
        "colab": {
          "base_uri": "https://localhost:8080/"
        },
        "id": "vhK8xKqoVJut",
        "outputId": "e153121c-2806-4180-fe71-b78295a7c95a"
      },
      "execution_count": null,
      "outputs": [
        {
          "output_type": "stream",
          "name": "stdout",
          "text": [
            "The King is Dead, Long Live The King\n"
          ]
        }
      ]
    },
    {
      "cell_type": "markdown",
      "source": [
        "9."
      ],
      "metadata": {
        "id": "seQQPMqhZof5"
      }
    },
    {
      "cell_type": "code",
      "source": [
        "string = 'The King is Dead, Long Live The King'\n",
        "print(string)\n",
        "print(string[0])\n",
        "print(string[3:6])\n",
        "print(string[3:])\n",
        "str = string.split()\n",
        "print(str)"
      ],
      "metadata": {
        "colab": {
          "base_uri": "https://localhost:8080/"
        },
        "id": "9duhrkwYXssg",
        "outputId": "e873a9b0-086f-40ca-8d56-afae1b66268c"
      },
      "execution_count": null,
      "outputs": [
        {
          "output_type": "stream",
          "name": "stdout",
          "text": [
            "The King is Dead, Long Live The King\n",
            "T\n",
            " Ki\n",
            " King is Dead, Long Live The King\n",
            "['The', 'King', 'is', 'Dead,', 'Long', 'Live', 'The', 'King']\n"
          ]
        }
      ]
    },
    {
      "cell_type": "markdown",
      "source": [
        "10."
      ],
      "metadata": {
        "id": "uymc6dvJY_CZ"
      }
    },
    {
      "cell_type": "code",
      "source": [
        "import numpy as np\n",
        "l=[10,67,89,35]\n",
        "arr=np.array(l)\n",
        "print(\"The first and second elements are\",arr[0:2])  "
      ],
      "metadata": {
        "id": "lflNRZQJaQhq",
        "colab": {
          "base_uri": "https://localhost:8080/"
        },
        "outputId": "998053b3-49d5-4ecd-f3ab-ac33ff6d2fda"
      },
      "execution_count": 7,
      "outputs": [
        {
          "output_type": "stream",
          "name": "stdout",
          "text": [
            "The first and second elements are [10 67]\n"
          ]
        }
      ]
    },
    {
      "cell_type": "markdown",
      "source": [
        "11."
      ],
      "metadata": {
        "id": "uF7tAMxIel9w"
      }
    },
    {
      "cell_type": "code",
      "source": [
        "arr=np.array([[1.,2.,3.],[4.,5.,6.]])\n",
        "print(arr)"
      ],
      "metadata": {
        "id": "6pZqMbyAepSh",
        "colab": {
          "base_uri": "https://localhost:8080/"
        },
        "outputId": "53a9e0bf-bde5-4a20-dad4-a7120eb13256"
      },
      "execution_count": 8,
      "outputs": [
        {
          "output_type": "stream",
          "name": "stdout",
          "text": [
            "[[1. 2. 3.]\n",
            " [4. 5. 6.]]\n"
          ]
        }
      ]
    },
    {
      "cell_type": "markdown",
      "source": [
        "12."
      ],
      "metadata": {
        "id": "VNjjbG1Oher3"
      }
    },
    {
      "cell_type": "code",
      "source": [
        "print(\"Second Row\",arr[1:][:])\n",
        "print(\"Second Col\",arr[1:,1])\n",
        "print(\"Length of the array :\",len(arr))"
      ],
      "metadata": {
        "colab": {
          "base_uri": "https://localhost:8080/"
        },
        "id": "lAgU9HyGhXEW",
        "outputId": "95bd0c3b-049f-44da-c997-24fa7e16e1d8"
      },
      "execution_count": 9,
      "outputs": [
        {
          "output_type": "stream",
          "name": "stdout",
          "text": [
            "Second Row [[4. 5. 6.]]\n",
            "Second Col [5.]\n",
            "Length of the array : 2\n"
          ]
        }
      ]
    },
    {
      "cell_type": "markdown",
      "source": [
        "13."
      ],
      "metadata": {
        "id": "js-t6sVthkR8"
      }
    },
    {
      "cell_type": "code",
      "source": [
        "list3=[]\n",
        "for i in range(10):\n",
        "  list3.append(np.random.randint(0,100))\n",
        "oned=np.array(list3)\n",
        "print(\"1D array :\",oned)\n",
        "twod=oned.reshape(5,2)\n",
        "print(\"2D array :\\n\",twod)\n",
        "print(\"Transpose :\\n\",twod.T)"
      ],
      "metadata": {
        "colab": {
          "base_uri": "https://localhost:8080/"
        },
        "id": "RYV-GwfMhijP",
        "outputId": "60f6d212-8234-4cf6-9ce4-08029cec3f80"
      },
      "execution_count": 10,
      "outputs": [
        {
          "output_type": "stream",
          "name": "stdout",
          "text": [
            "1D array : [62 87 62 74  9 93 15 59 10 89]\n",
            "2D array :\n",
            " [[62 87]\n",
            " [62 74]\n",
            " [ 9 93]\n",
            " [15 59]\n",
            " [10 89]]\n",
            "Transpose :\n",
            " [[62 62  9 15 10]\n",
            " [87 74 93 59 89]]\n"
          ]
        }
      ]
    },
    {
      "cell_type": "markdown",
      "source": [
        "14."
      ],
      "metadata": {
        "id": "W7u7hWDMkFVk"
      }
    },
    {
      "cell_type": "code",
      "source": [
        "l=[1,2,3]\n",
        "newarr=np.array([l])\n",
        "print(newarr)"
      ],
      "metadata": {
        "colab": {
          "base_uri": "https://localhost:8080/"
        },
        "id": "6VaQvMQlkHvp",
        "outputId": "3dd4bffb-42b2-4303-b198-9e0885770108"
      },
      "execution_count": 13,
      "outputs": [
        {
          "output_type": "stream",
          "name": "stdout",
          "text": [
            "[[1 2 3]]\n"
          ]
        }
      ]
    },
    {
      "cell_type": "markdown",
      "source": [
        "15."
      ],
      "metadata": {
        "id": "miSMpYoDkVn2"
      }
    },
    {
      "cell_type": "code",
      "source": [
        "arr=np.array([1,2,3])\n",
        "for i in range(len(arr)):\n",
        "  arr[i]=9\n",
        "print(arr)"
      ],
      "metadata": {
        "colab": {
          "base_uri": "https://localhost:8080/"
        },
        "id": "-IsMFP5pkXf4",
        "outputId": "2f74eeec-2fce-42ef-cd47-fc2d3cc5db32"
      },
      "execution_count": null,
      "outputs": [
        {
          "output_type": "stream",
          "name": "stdout",
          "text": [
            "[9 9 9]\n"
          ]
        }
      ]
    },
    {
      "cell_type": "markdown",
      "source": [
        "16."
      ],
      "metadata": {
        "id": "5SkuiJsXkfDD"
      }
    },
    {
      "cell_type": "code",
      "source": [
        "arr=np.array([2,4,5])\n",
        "sum=0\n",
        "for i in arr:\n",
        "  sum+=i\n",
        "print(sum)"
      ],
      "metadata": {
        "colab": {
          "base_uri": "https://localhost:8080/"
        },
        "id": "RdZP_Eppkgt6",
        "outputId": "2b2abe04-b099-4440-9dd0-e1c25503b447"
      },
      "execution_count": null,
      "outputs": [
        {
          "output_type": "stream",
          "name": "stdout",
          "text": [
            "11\n"
          ]
        }
      ]
    },
    {
      "cell_type": "markdown",
      "source": [
        "17."
      ],
      "metadata": {
        "id": "V5aKlggnkmWn"
      }
    },
    {
      "cell_type": "code",
      "source": [
        "arr=np.array([77,74,75])\n",
        "prod=1\n",
        "for i in arr:\n",
        "  prod*=i\n",
        "print(prod)"
      ],
      "metadata": {
        "colab": {
          "base_uri": "https://localhost:8080/"
        },
        "id": "mjH4UnDjkn7X",
        "outputId": "7c507c64-8cec-4414-ed96-4d6fa57cd4a0"
      },
      "execution_count": null,
      "outputs": [
        {
          "output_type": "stream",
          "name": "stdout",
          "text": [
            "427350\n"
          ]
        }
      ]
    },
    {
      "cell_type": "markdown",
      "source": [
        "18."
      ],
      "metadata": {
        "id": "1zoCGJV-kuD7"
      }
    },
    {
      "cell_type": "code",
      "source": [
        "arr=np.array([2,1,9,1,2,22,1,1,4,55,6,2,56])\n",
        "print(np.mean(arr))\n",
        "print(np.var(arr))\n",
        "print(np.max(arr))\n",
        "print(np.min(arr))\n",
        "print(np.argmin(arr))\n",
        "print(np.median(arr))\n",
        "print(np.argmax(arr))\n",
        "print(np.std(arr))"
      ],
      "metadata": {
        "colab": {
          "base_uri": "https://localhost:8080/"
        },
        "id": "jc-EwJO-kwVb",
        "outputId": "ecfc781e-1ea6-4454-f776-52a2d57e3ef7"
      },
      "execution_count": null,
      "outputs": [
        {
          "output_type": "stream",
          "name": "stdout",
          "text": [
            "12.461538461538462\n",
            "367.32544378698225\n",
            "56\n",
            "1\n",
            "1\n",
            "2.0\n",
            "12\n",
            "19.165736192147232\n"
          ]
        }
      ]
    },
    {
      "cell_type": "markdown",
      "source": [
        "19."
      ],
      "metadata": {
        "id": "u_kAk7IalPeH"
      }
    },
    {
      "cell_type": "code",
      "source": [
        "arr=np.array([1, 1, 7, 5, 5, 5, 4])\n",
        "temp=np.array(np.unique(arr))\n",
        "temp.sort()\n",
        "print(temp)"
      ],
      "metadata": {
        "colab": {
          "base_uri": "https://localhost:8080/"
        },
        "id": "Jc9Lmlp1lSu6",
        "outputId": "8d94eb1c-5c10-459e-d697-22269f4c6e90"
      },
      "execution_count": 12,
      "outputs": [
        {
          "output_type": "stream",
          "name": "stdout",
          "text": [
            "[1 4 5 7]\n"
          ]
        }
      ]
    },
    {
      "cell_type": "markdown",
      "source": [
        "20."
      ],
      "metadata": {
        "id": "GFM5qh-zl40Z"
      }
    },
    {
      "cell_type": "code",
      "source": [
        "x=np.array([1,2,3])\n",
        "y=np.array([0,1,1])\n",
        "print(np.dot(x,y))"
      ],
      "metadata": {
        "colab": {
          "base_uri": "https://localhost:8080/"
        },
        "id": "F563GZryl6b6",
        "outputId": "dbdcf15a-a6ec-4a7e-82b7-e7ab6ce07071"
      },
      "execution_count": null,
      "outputs": [
        {
          "output_type": "stream",
          "name": "stdout",
          "text": [
            "5\n"
          ]
        }
      ]
    },
    {
      "cell_type": "markdown",
      "source": [
        "21."
      ],
      "metadata": {
        "id": "sHHgZdZMmJbu"
      }
    },
    {
      "cell_type": "code",
      "source": [
        "import numpy as np\n",
        "from numpy.linalg import eig\n",
        "a = np.array([[6, -8], \n",
        "              [1, -5]])\n",
        "w,v=eig(a)\n",
        "print(w)\n",
        "print(v)"
      ],
      "metadata": {
        "colab": {
          "base_uri": "https://localhost:8080/"
        },
        "id": "_j-4qwiXmLHf",
        "outputId": "98893b86-1b57-4176-9e78-f683d58c01e3"
      },
      "execution_count": 11,
      "outputs": [
        {
          "output_type": "stream",
          "name": "stdout",
          "text": [
            "[ 5.21699057 -4.21699057]\n",
            "[[0.99524427 0.61650392]\n",
            " [0.09741071 0.78735184]]\n"
          ]
        }
      ]
    }
  ]
}